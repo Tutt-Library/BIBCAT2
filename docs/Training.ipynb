{
 "cells": [
  {
   "cell_type": "code",
   "execution_count": 4,
   "metadata": {
    "collapsed": false
   },
   "outputs": [
    {
     "ename": "ImportError",
     "evalue": "No module named 'ingesters'",
     "output_type": "error",
     "traceback": [
      "\u001b[1;31m---------------------------------------------------------------------------\u001b[0m",
      "\u001b[1;31mImportError\u001b[0m                               Traceback (most recent call last)",
      "\u001b[1;32m<ipython-input-4-914b7e96706f>\u001b[0m in \u001b[0;36m<module>\u001b[1;34m()\u001b[0m\n\u001b[0;32m      9\u001b[0m         \u001b[0mingester\u001b[0m \u001b[1;33m=\u001b[0m \u001b[0mmods\u001b[0m\u001b[1;33m.\u001b[0m\u001b[0mMODSIngester\u001b[0m\u001b[1;33m(\u001b[0m\u001b[0mmods_xml\u001b[0m\u001b[1;33m,\u001b[0m \u001b[0mcustom\u001b[0m\u001b[1;33m=\u001b[0m\u001b[1;33m[\u001b[0m\u001b[1;34m\"cc-mods-bf.ttl\"\u001b[0m\u001b[1;33m]\u001b[0m\u001b[1;33m)\u001b[0m\u001b[1;33m\u001b[0m\u001b[0m\n\u001b[0;32m     10\u001b[0m         \u001b[0mingester\u001b[0m\u001b[1;33m.\u001b[0m\u001b[0mbase_url\u001b[0m \u001b[1;33m=\u001b[0m \u001b[1;34m\"http://catalog.coloradocollege.edu/\"\u001b[0m\u001b[1;33m\u001b[0m\u001b[0m\n\u001b[1;32m---> 11\u001b[1;33m \u001b[0msetup_mods\u001b[0m\u001b[1;33m(\u001b[0m\u001b[1;33m)\u001b[0m\u001b[1;33m\u001b[0m\u001b[0m\n\u001b[0m",
      "\u001b[1;32m<ipython-input-4-914b7e96706f>\u001b[0m in \u001b[0;36msetup_mods\u001b[1;34m()\u001b[0m\n\u001b[0;32m      4\u001b[0m         \u001b[1;32mimport\u001b[0m \u001b[0mxml\u001b[0m\u001b[1;33m.\u001b[0m\u001b[0metree\u001b[0m\u001b[1;33m.\u001b[0m\u001b[0mElementTree\u001b[0m \u001b[1;32mas\u001b[0m \u001b[0metree\u001b[0m\u001b[1;33m\u001b[0m\u001b[0m\n\u001b[0;32m      5\u001b[0m         \u001b[0msys\u001b[0m\u001b[1;33m.\u001b[0m\u001b[0mpath\u001b[0m\u001b[1;33m.\u001b[0m\u001b[0mappend\u001b[0m\u001b[1;33m(\u001b[0m\u001b[1;34m\"E:/2016/tiger-catalog/\"\u001b[0m\u001b[1;33m)\u001b[0m\u001b[1;33m\u001b[0m\u001b[0m\n\u001b[1;32m----> 6\u001b[1;33m         \u001b[1;32mimport\u001b[0m \u001b[0mbibcat\u001b[0m\u001b[1;33m.\u001b[0m\u001b[0mingesters\u001b[0m\u001b[1;33m.\u001b[0m\u001b[0mmods\u001b[0m \u001b[1;32mas\u001b[0m \u001b[0mmods\u001b[0m\u001b[1;33m\u001b[0m\u001b[0m\n\u001b[0m\u001b[0;32m      7\u001b[0m         \u001b[0mresult\u001b[0m \u001b[1;33m=\u001b[0m \u001b[0mrequests\u001b[0m\u001b[1;33m.\u001b[0m\u001b[0mget\u001b[0m\u001b[1;33m(\u001b[0m\u001b[1;34m\"https://digitalcc.coloradocollege.edu/islandora/object/coccc%3A10981/datastream/MODS/view\"\u001b[0m\u001b[1;33m)\u001b[0m\u001b[1;33m\u001b[0m\u001b[0m\n\u001b[0;32m      8\u001b[0m         \u001b[0mmods_xml\u001b[0m \u001b[1;33m=\u001b[0m \u001b[0metree\u001b[0m\u001b[1;33m.\u001b[0m\u001b[0mXML\u001b[0m\u001b[1;33m(\u001b[0m\u001b[0mresult\u001b[0m\u001b[1;33m.\u001b[0m\u001b[0mtext\u001b[0m\u001b[1;33m)\u001b[0m\u001b[1;33m\u001b[0m\u001b[0m\n",
      "\u001b[1;32mE:/2016/tiger-catalog\\bibcat\\ingesters\\mods.py\u001b[0m in \u001b[0;36m<module>\u001b[1;34m()\u001b[0m\n\u001b[0;32m     16\u001b[0m \u001b[1;33m\u001b[0m\u001b[0m\n\u001b[0;32m     17\u001b[0m \u001b[1;32mfrom\u001b[0m \u001b[0mcollections\u001b[0m \u001b[1;32mimport\u001b[0m \u001b[0mOrderedDict\u001b[0m\u001b[1;33m\u001b[0m\u001b[0m\n\u001b[1;32m---> 18\u001b[1;33m \u001b[1;32mfrom\u001b[0m \u001b[0mingesters\u001b[0m\u001b[1;33m.\u001b[0m\u001b[0mingester\u001b[0m \u001b[1;32mimport\u001b[0m \u001b[0mIngester\u001b[0m\u001b[1;33m,\u001b[0m \u001b[0mnew_graph\u001b[0m\u001b[1;33m,\u001b[0m \u001b[0mNS_MGR\u001b[0m\u001b[1;33m\u001b[0m\u001b[0m\n\u001b[0m\u001b[0;32m     19\u001b[0m \u001b[1;32mfrom\u001b[0m \u001b[0mingesters\u001b[0m\u001b[1;33m.\u001b[0m\u001b[0msparql\u001b[0m \u001b[1;32mimport\u001b[0m \u001b[1;33m*\u001b[0m\u001b[1;33m\u001b[0m\u001b[0m\n\u001b[0;32m     20\u001b[0m \u001b[1;33m\u001b[0m\u001b[0m\n",
      "\u001b[1;31mImportError\u001b[0m: No module named 'ingesters'"
     ]
    }
   ],
   "source": [
    "def setup_mods():\n",
    "\tglobal ingester, mods, rdflib, etree, requests, mods_xml\n",
    "\timport sys, rdflib, requests\n",
    "\timport xml.etree.ElementTree as etree\n",
    "\tsys.path.append(\"E:/2016/tiger-catalog/\")\n",
    "\timport bibcat.ingesters.mods as mods\n",
    "\tresult = requests.get(\"https://digitalcc.coloradocollege.edu/islandora/object/coccc%3A10981/datastream/MODS/view\")\n",
    "\tmods_xml = etree.XML(result.text)\n",
    "\tingester = mods.MODSIngester(mods_xml, custom=[\"cc-mods-bf.ttl\"])\n",
    "\tingester.base_url = \"http://catalog.coloradocollege.edu/\"\n",
    "setup_mods()"
   ]
  },
  {
   "cell_type": "markdown",
   "metadata": {},
   "source": [
    "# Arthur J. Kew and Ida Rosalie Fursman \n",
    "\n",
    "[Digital CC](https://digitalcc.coloradocollege.edu/islandora/object/coccc%3A10981/)\n",
    "\n",
    "[Digital CC Beta](https://digitalccbeta.coloradocollege.edu/pid/coccc:10981)"
   ]
  },
  {
   "cell_type": "code",
   "execution_count": 3,
   "metadata": {
    "collapsed": true
   },
   "outputs": [],
   "source": [
    "ingester.transform()"
   ]
  },
  {
   "cell_type": "code",
   "execution_count": 4,
   "metadata": {
    "collapsed": false
   },
   "outputs": [
    {
     "name": "stdout",
     "output_type": "stream",
     "text": [
      "@prefix bc: <http://knowledgelinks.io/ns/bibcat/> .\n",
      "@prefix bf: <http://id.loc.gov/ontologies/bibframe/> .\n",
      "@prefix dc: <http://purl.org/dc/elements/1.1/> .\n",
      "@prefix dcr: <http://knowledgelinks.io/ns/dc/> .\n",
      "@prefix kdr: <http://knowledgelinks.io/ns/data-resources/> .\n",
      "@prefix kds: <http://knowledgelinks.io/ns/data-structures/> .\n",
      "@prefix loc: <http://id.loc.gov/> .\n",
      "@prefix modsr: <http://knowledgelinks.io/ns/mods/> .\n",
      "@prefix owl: <http://www.w3.org/2002/07/owl#> .\n",
      "@prefix pcdm: <http://pcdm.org/models#> .\n",
      "@prefix rdf: <http://www.w3.org/1999/02/22-rdf-syntax-ns#> .\n",
      "@prefix rdfs: <http://www.w3.org/2000/01/rdf-schema#> .\n",
      "@prefix relators: <http://id.loc.gov/vocabulary/relators/> .\n",
      "@prefix schema: <http://schema.org/> .\n",
      "@prefix xml: <http://www.w3.org/XML/1998/namespace> .\n",
      "@prefix xsd: <http://www.w3.org/2001/XMLSchema#> .\n",
      "\n",
      "<http://catalog.coloradocollege.edu/775c501e-58c4-11e6-850a-005056c00008> a bf:Item ;\n",
      "    bf:generationProcess [ a bf:GenerationProcess ;\n",
      "            bf:generationDate \"2016-08-02T15:19:12.111157\" ;\n",
      "            rdf:value \"Generated by BIBCAT version 1.0.1 from KnowledgeLinks.io\"@en ] ;\n",
      "    bf:heldBy <https://www.coloradocollege.edu/> ;\n",
      "    bf:itemOf <http://catalog.coloradocollege.edu/76647bc8-58c4-11e6-9fdd-005056c00008> .\n",
      "\n",
      "<http://catalog.coloradocollege.edu/76647bc8-58c4-11e6-9fdd-005056c00008> a bf:Instance ;\n",
      "    bf:contributor [ a bf:Person ;\n",
      "            schema:alternativeName \"Finley, Judith Reid, 1936-\" ],\n",
      "        [ a bf:Person ;\n",
      "            schema:alternativeName \"Fursman, Ida Rosalie\" ],\n",
      "        [ a bf:Person ;\n",
      "            schema:alternativeName \"Ehrich, Louis R., 1849-1911\" ],\n",
      "        [ a bf:Person ;\n",
      "            schema:alternativeName \"Kew, Arthur J.\" ] ;\n",
      "    bf:dissertation [ a bf:Dissertation ;\n",
      "            bf:grantingInstitution [ a bf:Organization ] ] ;\n",
      "    bf:generationProcess [ a bf:GenerationProcess ;\n",
      "            bf:generationDate \"2016-08-02T15:19:12.074664\" ;\n",
      "            rdf:value \"Generated by BIBCAT version 1.0.1 from KnowledgeLinks.io\"@en ] ;\n",
      "    bf:genreFrom [ a bf:GenreForm ;\n",
      "            rdf:value \"letter\",\n",
      "                \"picture\" ] ;\n",
      "    bf:instanceOf [ a bf:Work ;\n",
      "            bf:originDate \"1901\" ] ;\n",
      "    bf:note [ a bf:Note ;\n",
      "            bf:noteType \"admin\"@en ;\n",
      "            rdf:value \"Documents originally digitized in JPEG format. JPEG document files were converted to PDF format in 2015.\" ],\n",
      "        [ a bf:Note ;\n",
      "            bf:noteType \"admin\"@en ;\n",
      "            rdf:value \"Title supplied by cataloger.\" ],\n",
      "        [ a bf:Note ;\n",
      "            bf:noteType \"admin\"@en ;\n",
      "            rdf:value \"Alternative Title derived from Colorado Springs Century Chest Collection, 1901, Ms 0349 finding aid, February 23, 2015.\" ],\n",
      "        [ a bf:Note ;\n",
      "            bf:noteType \"admin\"@en ;\n",
      "            rdf:value \"Transcription of letter by Judith Reid Finley.\" ] ;\n",
      "    bf:summary [ a bf:Summary ;\n",
      "            rdf:value \"\"\"Historic documentation of life at the turn of the 19th century created by residents of Colorado Springs, Colorado in 1901 for the citizens of 2001. Under the direction of Louis R. Ehrich, a prominent 19th century businessman, the items were sealed in a chest which was stored in various buildings on the Colorado College campus until the official opening January 1, 2001 at the Charles Leaming Tutt Library.  Contents of Ms349, Fd 56, Arthur J. Kew and Ida Rosalie Fursman include: 1 2-page, handwritten letter, dated August 4, 1901, addressed âTo the citizens of Colorado Springs in the Year 2001. Brethren, through ties of Home and Love.â Signed by Arthur J. Kew;  \n",
      "1 10-page, handwritten manuscript titled âColorado. An Ode written for The Quarto-Centennial Celebrationâ by Arthur J. Kew, dated July 1901; 1 7-page, handwritten manuscript, dated August 5, 1901, containing 5 sonnets written to Ida Rosalie Fursman by Arthur J. Kew; 1 3-page, handwritten manuscript dated August 3, 1901, titled âLand of our Home: Verses written to the music of âHome, Sweet Homeâ to be sung at the Dedication of the         Century Chestâ by Arthur J. Kew; 2 b&w photos âArthur J. Kewâ and âIda Rosalie Fursman.â  \n",
      "\"\"\" ] ;\n",
      "    bf:title [ a bf:InstanceTitle ;\n",
      "            bf:mainTitle \"Arthur J. Kew and Ida Rosalie Fursman \",\n",
      "                \"Colorado Springs Century Chest Collection, 1901, Ms 0349, Folder 56, Arthur J. Kew and Ida Rosalie Fursman \" ] ;\n",
      "    relators:cre [ a bf:Person ;\n",
      "            schema:alternativeName \"Finley, Judith Reid, 1936-\" ],\n",
      "        [ a bf:Person ;\n",
      "            schema:alternativeName \"Ehrich, Louis R., 1849-1911\" ],\n",
      "        [ a bf:Person ;\n",
      "            schema:alternativeName \"Kew, Arthur J.\" ],\n",
      "        [ a bf:Person ;\n",
      "            schema:alternativeName \"Fursman, Ida Rosalie\" ] .\n",
      "\n",
      "\n"
     ]
    }
   ],
   "source": [
    "print(ingester.graph.serialize(format='turtle').decode())"
   ]
  },
  {
   "cell_type": "code",
   "execution_count": 2,
   "metadata": {
    "collapsed": false
   },
   "outputs": [
    {
     "ename": "NameError",
     "evalue": "name 'etree' is not defined",
     "output_type": "error",
     "traceback": [
      "\u001b[1;31m---------------------------------------------------------------------------\u001b[0m",
      "\u001b[1;31mNameError\u001b[0m                                 Traceback (most recent call last)",
      "\u001b[1;32m<ipython-input-2-9e121ef47f5e>\u001b[0m in \u001b[0;36m<module>\u001b[1;34m()\u001b[0m\n\u001b[1;32m----> 1\u001b[1;33m \u001b[0mmods2_xml\u001b[0m \u001b[1;33m=\u001b[0m \u001b[0metree\u001b[0m\u001b[1;33m.\u001b[0m\u001b[0mXML\u001b[0m\u001b[1;33m(\u001b[0m\u001b[0mrequests\u001b[0m\u001b[1;33m.\u001b[0m\u001b[0mget\u001b[0m\u001b[1;33m(\u001b[0m\u001b[1;34m\"https://digitalcc.coloradocollege.edu/islandora/object/coccc%3A12584/datastream/MODS/view\"\u001b[0m\u001b[1;33m)\u001b[0m\u001b[1;33m.\u001b[0m\u001b[0mtext\u001b[0m\u001b[1;33m)\u001b[0m\u001b[1;33m\u001b[0m\u001b[0m\n\u001b[0m",
      "\u001b[1;31mNameError\u001b[0m: name 'etree' is not defined"
     ]
    }
   ],
   "source": [
    "\n",
    "mods2_xml = etree.XML(requests.get(\"https://digitalcc.coloradocollege.edu/islandora/object/coccc%3A12584/datastream/MODS/view\").text)"
   ]
  },
  {
   "cell_type": "code",
   "execution_count": null,
   "metadata": {
    "collapsed": true
   },
   "outputs": [],
   "source": []
  }
 ],
 "metadata": {
  "kernelspec": {
   "display_name": "Python 3",
   "language": "python",
   "name": "python3"
  },
  "language_info": {
   "codemirror_mode": {
    "name": "ipython",
    "version": 3
   },
   "file_extension": ".py",
   "mimetype": "text/x-python",
   "name": "python",
   "nbconvert_exporter": "python",
   "pygments_lexer": "ipython3",
   "version": "3.5.1"
  }
 },
 "nbformat": 4,
 "nbformat_minor": 0
}
